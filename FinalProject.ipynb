{
  "nbformat": 4,
  "nbformat_minor": 0,
  "metadata": {
    "colab": {
      "name": "Untitled32.ipynb",
      "provenance": []
    },
    "kernelspec": {
      "name": "python3",
      "display_name": "Python 3"
    }
  },
  "cells": [
    {
      "cell_type": "code",
      "metadata": {
        "id": "bnwrEpC-OTb4"
      },
      "source": [
        "class Employee:\r\n",
        "    def __init__(self, name, age):\r\n",
        "        self.name = name\r\n",
        "        self.age = age\r\n",
        "        self.language = []\r\n",
        "        \r\n",
        "    def addLanguage(self,language):\r\n",
        "        self.language.append(language)\r\n",
        "    def Info(self):\r\n",
        "        print(\"{} is {} years old\".format(self.name,self.age))\r\n",
        "        print(\"He/She is an employee.\")\r\n",
        "        print(\"He/She can speak:\")\r\n",
        "        for i in self.language:\r\n",
        "         print(i)\r\n"
      ],
      "execution_count": 16,
      "outputs": []
    },
    {
      "cell_type": "code",
      "metadata": {
        "id": "NsG7M9avOoB2"
      },
      "source": [
        "class Manager:\r\n",
        "    def __init__(self, name, age):\r\n",
        "        self.name = name\r\n",
        "        self.age = age\r\n",
        "        self.language = []\r\n",
        "    def addLanguage(self,language):\r\n",
        "        self.language.append(language)\r\n",
        "  \r\n",
        "    def Info(self):\r\n",
        "        print(\"{} is {} years old\".format(self.name,self.age))\r\n",
        "        print(\"He/She is an Manager.\")\r\n",
        "        print(\"He/She can speak:\")\r\n",
        "        for i in self.language:\r\n",
        "         print(i)\r\n"
      ],
      "execution_count": 18,
      "outputs": []
    },
    {
      "cell_type": "code",
      "metadata": {
        "id": "Mo6v5lkXOl_P"
      },
      "source": [
        "manager1=Manager(\"Ebru\",28)\r\n",
        "manager1.addLanguage(\"Turkish\")\r\n",
        "manager1.addLanguage(\"English\")\r\n",
        "manager1.addLanguage(\"German\")\r\n",
        "\r\n",
        "\r\n",
        "manager2=Manager(\"Ayşe\",30)\r\n",
        "manager2.addLanguage(\"English\")\r\n",
        "manager2.addLanguage(\"Turkish\")\r\n",
        "manager2.addLanguage(\"Russian\")\r\n",
        "\r\n",
        "\r\n",
        "employee=Employee(\"Burak\",24)\r\n",
        "employee.addLanguage(\"Turkish\")\r\n",
        "\r\n",
        "\r\n",
        "employee2=Employee(\"Selin\",25)\r\n",
        "employee2.addLanguage(\"Turkish\")\r\n"
      ],
      "execution_count": 19,
      "outputs": []
    },
    {
      "cell_type": "code",
      "metadata": {
        "id": "M2JBTsxdOuc3"
      },
      "source": [
        "user=input(\"Type the name of the person you want to view :\")\r\n",
        "if user==manager1.name:\r\n",
        "    manager1.Info()\r\n",
        "elif user==manager2.name:\r\n",
        "    manager2.Info()\r\n",
        "elif user==employee.name:\r\n",
        "    employee.Info()\r\n",
        "elif user==employee2.name:\r\n",
        "    employee2.Info()\r\n",
        "else:\r\n",
        " print(\"No such person has been found.\")"
      ],
      "execution_count": null,
      "outputs": []
    }
  ]
}